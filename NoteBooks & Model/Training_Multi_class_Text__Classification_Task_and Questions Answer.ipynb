{
 "cells": [
  {
   "cell_type": "markdown",
   "metadata": {
    "id": "H_n4gdZr3uCm"
   },
   "source": [
    "# Multi-Class Text Classififcation Task\n",
    "##### By Mohamed Sebaie Sebaie Youssef "
   ]
  },
  {
   "cell_type": "code",
   "execution_count": 1,
   "metadata": {
    "ExecuteTime": {
     "end_time": "2021-09-20T16:43:39.626640Z",
     "start_time": "2021-09-20T16:43:32.435938Z"
    },
    "colab": {
     "base_uri": "https://localhost:8080/"
    },
    "id": "-LuhvaU83uCq",
    "outputId": "0e5c177e-1dd8-488f-dfd1-586aa5139d0d"
   },
   "outputs": [
    {
     "name": "stderr",
     "output_type": "stream",
     "text": [
      "[nltk_data] Downloading package stopwords to\n",
      "[nltk_data]     C:\\Users\\M-Sebaie\\AppData\\Roaming\\nltk_data...\n",
      "[nltk_data]   Package stopwords is already up-to-date!\n"
     ]
    }
   ],
   "source": [
    "#basic imports\n",
    "import numpy as np\n",
    "import pandas as pd\n",
    "import matplotlib.pyplot as plt\n",
    "%matplotlib inline\n",
    "\n",
    "#NLP imports\n",
    "import re\n",
    "import nltk\n",
    "nltk.download('stopwords')\n",
    "from nltk.corpus import stopwords\n",
    "\n",
    "#Classification imports\n",
    "from sklearn.pipeline import Pipeline\n",
    "from imblearn.over_sampling import SMOTEN\n",
    "from sklearn.model_selection import train_test_split\n",
    "from sklearn.model_selection import GridSearchCV, cross_val_score\n",
    "from sklearn.metrics import classification_report,confusion_matrix,accuracy_score\n",
    "from sklearn.feature_extraction.text import CountVectorizer, TfidfVectorizer,TfidfTransformer\n",
    "from sklearn.feature_selection import SelectKBest, chi2\n",
    "\n",
    "#Models\n",
    "from sklearn.svm import SVC\n",
    "from xgboost import XGBClassifier\n",
    "from catboost import CatBoostClassifier\n",
    "from lightgbm import LGBMClassifier\n",
    "from sklearn.tree import DecisionTreeClassifier\n",
    "from sklearn.neighbors import KNeighborsClassifier\n",
    "from sklearn.linear_model import SGDClassifier,LogisticRegression\n",
    "from sklearn.discriminant_analysis import LinearDiscriminantAnalysis\n",
    "from sklearn.naive_bayes import MultinomialNB, BernoulliNB,GaussianNB\n",
    "from sklearn.ensemble import RandomForestClassifier, BaggingClassifier,GradientBoostingClassifier,AdaBoostClassifier,BaggingClassifier\n"
   ]
  },
  {
   "cell_type": "markdown",
   "metadata": {
    "id": "sYYwM8Cv3uCv"
   },
   "source": [
    "## Steps\n",
    "<ol>\n",
    "    \n",
    "    1.Loading Data into a dataframe.\n",
    "    \n",
    "    2.Visualizing data.\n",
    "    \n",
    "    3.Preprocessing data.\n",
    "    \n",
    "    4.Splitting data into test and train datasets.\n",
    "    \n",
    "    5.Handel the Imbalance with Train Data\n",
    "    \n",
    "    6.Model Selection\n",
    "    \n",
    "    7.Save Model As PKL for Deployment"
   ]
  },
  {
   "cell_type": "markdown",
   "metadata": {},
   "source": [
    "### 1. Load Data "
   ]
  },
  {
   "cell_type": "code",
   "execution_count": 2,
   "metadata": {
    "ExecuteTime": {
     "end_time": "2021-09-20T16:43:43.340615Z",
     "start_time": "2021-09-20T16:43:43.297657Z"
    },
    "colab": {
     "base_uri": "https://localhost:8080/",
     "height": 202
    },
    "id": "Or6bABYE3uCv",
    "outputId": "945c4193-ae40-494d-c635-701007712bff"
   },
   "outputs": [
    {
     "data": {
      "text/html": [
       "<div>\n",
       "<style scoped>\n",
       "    .dataframe tbody tr th:only-of-type {\n",
       "        vertical-align: middle;\n",
       "    }\n",
       "\n",
       "    .dataframe tbody tr th {\n",
       "        vertical-align: top;\n",
       "    }\n",
       "\n",
       "    .dataframe thead th {\n",
       "        text-align: right;\n",
       "    }\n",
       "</style>\n",
       "<table border=\"1\" class=\"dataframe\">\n",
       "  <thead>\n",
       "    <tr style=\"text-align: right;\">\n",
       "      <th></th>\n",
       "      <th>job title</th>\n",
       "      <th>industry</th>\n",
       "    </tr>\n",
       "  </thead>\n",
       "  <tbody>\n",
       "    <tr>\n",
       "      <th>0</th>\n",
       "      <td>technical support and helpdesk supervisor - co...</td>\n",
       "      <td>IT</td>\n",
       "    </tr>\n",
       "    <tr>\n",
       "      <th>1</th>\n",
       "      <td>senior technical support engineer</td>\n",
       "      <td>IT</td>\n",
       "    </tr>\n",
       "    <tr>\n",
       "      <th>2</th>\n",
       "      <td>head of it services</td>\n",
       "      <td>IT</td>\n",
       "    </tr>\n",
       "    <tr>\n",
       "      <th>3</th>\n",
       "      <td>js front end engineer</td>\n",
       "      <td>IT</td>\n",
       "    </tr>\n",
       "    <tr>\n",
       "      <th>4</th>\n",
       "      <td>network and telephony controller</td>\n",
       "      <td>IT</td>\n",
       "    </tr>\n",
       "  </tbody>\n",
       "</table>\n",
       "</div>"
      ],
      "text/plain": [
       "                                           job title industry\n",
       "0  technical support and helpdesk supervisor - co...       IT\n",
       "1                  senior technical support engineer       IT\n",
       "2                                head of it services       IT\n",
       "3                              js front end engineer       IT\n",
       "4                   network and telephony controller       IT"
      ]
     },
     "execution_count": 2,
     "metadata": {},
     "output_type": "execute_result"
    }
   ],
   "source": [
    "#loading data into a dataframe.\n",
    "df = pd.read_csv(\"Job titles and industries.csv\")\n",
    "df.head()"
   ]
  },
  {
   "cell_type": "code",
   "execution_count": 3,
   "metadata": {
    "ExecuteTime": {
     "end_time": "2021-09-20T16:43:44.198825Z",
     "start_time": "2021-09-20T16:43:44.191978Z"
    },
    "colab": {
     "base_uri": "https://localhost:8080/"
    },
    "id": "DShklthf3uCz",
    "outputId": "107993fd-e747-44b2-ebf4-0fea836d288b"
   },
   "outputs": [
    {
     "data": {
      "text/plain": [
       "(8586, 2)"
      ]
     },
     "execution_count": 3,
     "metadata": {},
     "output_type": "execute_result"
    }
   ],
   "source": [
    "df.shape"
   ]
  },
  {
   "cell_type": "code",
   "execution_count": 4,
   "metadata": {
    "ExecuteTime": {
     "end_time": "2021-09-20T16:43:44.809023Z",
     "start_time": "2021-09-20T16:43:44.802191Z"
    },
    "id": "SxngnSOgBYy6"
   },
   "outputs": [],
   "source": [
    "df.rename(columns = {'job title':'job_title'}, inplace = True)"
   ]
  },
  {
   "cell_type": "code",
   "execution_count": 5,
   "metadata": {
    "ExecuteTime": {
     "end_time": "2021-09-20T16:43:45.108758Z",
     "start_time": "2021-09-20T16:43:45.089230Z"
    },
    "colab": {
     "base_uri": "https://localhost:8080/"
    },
    "id": "4xxh5W4v3uC0",
    "outputId": "1cea85fc-e423-4b8f-80e5-c34126c39090"
   },
   "outputs": [
    {
     "name": "stdout",
     "output_type": "stream",
     "text": [
      "<class 'pandas.core.frame.DataFrame'>\n",
      "RangeIndex: 8586 entries, 0 to 8585\n",
      "Data columns (total 2 columns):\n",
      " #   Column     Non-Null Count  Dtype \n",
      "---  ------     --------------  ----- \n",
      " 0   job_title  8586 non-null   object\n",
      " 1   industry   8586 non-null   object\n",
      "dtypes: object(2)\n",
      "memory usage: 134.3+ KB\n"
     ]
    }
   ],
   "source": [
    "df.info()"
   ]
  },
  {
   "cell_type": "code",
   "execution_count": 6,
   "metadata": {
    "ExecuteTime": {
     "end_time": "2021-09-20T16:43:45.453403Z",
     "start_time": "2021-09-20T16:43:45.423139Z"
    },
    "colab": {
     "base_uri": "https://localhost:8080/",
     "height": 171
    },
    "id": "ONatrlV03uC1",
    "outputId": "793dfae2-5822-45d8-f015-cb27ad00159f"
   },
   "outputs": [
    {
     "data": {
      "text/html": [
       "<div>\n",
       "<style scoped>\n",
       "    .dataframe tbody tr th:only-of-type {\n",
       "        vertical-align: middle;\n",
       "    }\n",
       "\n",
       "    .dataframe tbody tr th {\n",
       "        vertical-align: top;\n",
       "    }\n",
       "\n",
       "    .dataframe thead th {\n",
       "        text-align: right;\n",
       "    }\n",
       "</style>\n",
       "<table border=\"1\" class=\"dataframe\">\n",
       "  <thead>\n",
       "    <tr style=\"text-align: right;\">\n",
       "      <th></th>\n",
       "      <th>job_title</th>\n",
       "      <th>industry</th>\n",
       "    </tr>\n",
       "  </thead>\n",
       "  <tbody>\n",
       "    <tr>\n",
       "      <th>count</th>\n",
       "      <td>8586</td>\n",
       "      <td>8586</td>\n",
       "    </tr>\n",
       "    <tr>\n",
       "      <th>unique</th>\n",
       "      <td>3890</td>\n",
       "      <td>4</td>\n",
       "    </tr>\n",
       "    <tr>\n",
       "      <th>top</th>\n",
       "      <td>marketing executive</td>\n",
       "      <td>IT</td>\n",
       "    </tr>\n",
       "    <tr>\n",
       "      <th>freq</th>\n",
       "      <td>91</td>\n",
       "      <td>4746</td>\n",
       "    </tr>\n",
       "  </tbody>\n",
       "</table>\n",
       "</div>"
      ],
      "text/plain": [
       "                  job_title industry\n",
       "count                  8586     8586\n",
       "unique                 3890        4\n",
       "top     marketing executive       IT\n",
       "freq                     91     4746"
      ]
     },
     "execution_count": 6,
     "metadata": {},
     "output_type": "execute_result"
    }
   ],
   "source": [
    "df.describe(include=object)"
   ]
  },
  {
   "cell_type": "code",
   "execution_count": 7,
   "metadata": {
    "ExecuteTime": {
     "end_time": "2021-09-20T16:43:45.920091Z",
     "start_time": "2021-09-20T16:43:45.912280Z"
    },
    "colab": {
     "base_uri": "https://localhost:8080/"
    },
    "id": "7pjnon2h3uC1",
    "outputId": "170eb7cc-c2f0-483e-d0ac-93a79b6e53b3"
   },
   "outputs": [
    {
     "name": "stdout",
     "output_type": "stream",
     "text": [
      "There are only 3890 unique entries in job titles.\n"
     ]
    }
   ],
   "source": [
    "print(f\"There are only {len(df['job_title'].unique())} unique entries in job titles.\")"
   ]
  },
  {
   "cell_type": "code",
   "execution_count": 8,
   "metadata": {
    "ExecuteTime": {
     "end_time": "2021-09-20T16:43:46.349678Z",
     "start_time": "2021-09-20T16:43:46.341867Z"
    },
    "colab": {
     "base_uri": "https://localhost:8080/"
    },
    "id": "NlQlcd9p3uC2",
    "outputId": "663d1767-9d3d-4e73-d9e2-9c66dfe62710"
   },
   "outputs": [
    {
     "name": "stdout",
     "output_type": "stream",
     "text": [
      "There are 4 Classes in the data: ['IT' 'Marketing' 'Education' 'Accountancy']\n"
     ]
    }
   ],
   "source": [
    "print(f\"There are {len(df['industry'].unique())} Classes in the data: {df['industry'].unique()}\")"
   ]
  },
  {
   "cell_type": "markdown",
   "metadata": {
    "id": "0uTdMETM3uC2"
   },
   "source": [
    "### 2. Visualize the distribution of classes."
   ]
  },
  {
   "cell_type": "code",
   "execution_count": 9,
   "metadata": {
    "ExecuteTime": {
     "end_time": "2021-09-20T16:43:47.207875Z",
     "start_time": "2021-09-20T16:43:47.197135Z"
    },
    "colab": {
     "base_uri": "https://localhost:8080/"
    },
    "id": "r5tPGvvc3uC3",
    "outputId": "1ad5787b-082e-4e5e-83c9-ce0792f3d965"
   },
   "outputs": [
    {
     "data": {
      "text/plain": [
       "IT             4746\n",
       "Marketing      2031\n",
       "Education      1435\n",
       "Accountancy     374\n",
       "Name: industry, dtype: int64"
      ]
     },
     "execution_count": 9,
     "metadata": {},
     "output_type": "execute_result"
    }
   ],
   "source": [
    "df[\"industry\"].value_counts()"
   ]
  },
  {
   "cell_type": "code",
   "execution_count": 10,
   "metadata": {
    "ExecuteTime": {
     "end_time": "2021-09-20T16:43:48.034831Z",
     "start_time": "2021-09-20T16:43:47.742907Z"
    },
    "colab": {
     "base_uri": "https://localhost:8080/",
     "height": 352
    },
    "id": "Oj_Y83hB3uC4",
    "outputId": "1008fc8f-475b-4e67-bd59-037d9533c97a"
   },
   "outputs": [
    {
     "data": {
      "text/plain": [
       "<Figure size 720x432 with 0 Axes>"
      ]
     },
     "metadata": {},
     "output_type": "display_data"
    },
    {
     "data": {
      "image/png": "[encoded data removed]",
      "text/plain": [
       "<Figure size 432x288 with 1 Axes>"
      ]
     },
     "metadata": {
      "needs_background": "light"
     },
     "output_type": "display_data"
    }
   ],
   "source": [
    "plt.figure(figsize=(10,6));\n",
    "df.groupby('industry').count().plot.bar(ylim=0);\n",
    "plt.show();"
   ]
  },
  {
   "cell_type": "markdown",
   "metadata": {
    "id": "BtOpL7lm3uC_"
   },
   "source": [
    "### 3. Pre-processing"
   ]
  },
  {
   "cell_type": "code",
   "execution_count": 11,
   "metadata": {
    "ExecuteTime": {
     "end_time": "2021-09-20T16:43:48.929152Z",
     "start_time": "2021-09-20T16:43:48.857880Z"
    },
    "id": "UQIggdPN3uCx"
   },
   "outputs": [],
   "source": [
    "REPLACE_BY_SPACE_RE = re.compile('[/(){}\\[\\]\\|@,;]')\n",
    "BAD_SYMBOLS_RE = re.compile('[^0-9a-z #+_]')\n",
    "STOPWORDS = set(stopwords.words('english'))\n",
    "\n",
    "def clean_text(text):\n",
    "    \"\"\"\n",
    "        text: a string\n",
    "        \n",
    "        return: modified initial string\n",
    "    \"\"\"\n",
    "    text = text.lower() # lowercase text\n",
    "    text = REPLACE_BY_SPACE_RE.sub(' ', text) # replace REPLACE_BY_SPACE_RE symbols by space in text\n",
    "    text = BAD_SYMBOLS_RE.sub('', text) # delete symbols which are in BAD_SYMBOLS_RE from text\n",
    "    text = ' '.join(word for word in text.split() if word not in STOPWORDS) # delete stopwors from text\n",
    "    return text\n",
    "    \n",
    "df['job_title'] = df['job_title'].apply(clean_text)"
   ]
  },
  {
   "cell_type": "markdown",
   "metadata": {
    "id": "CobPHecZ_Mln"
   },
   "source": [
    "### 4. Splitting Data Into Train and Test Datasets "
   ]
  },
  {
   "cell_type": "code",
   "execution_count": 12,
   "metadata": {
    "ExecuteTime": {
     "end_time": "2021-09-20T16:43:50.162263Z",
     "start_time": "2021-09-20T16:43:50.150548Z"
    },
    "colab": {
     "base_uri": "https://localhost:8080/"
    },
    "id": "H5TpA0nFDDL9",
    "outputId": "1a6719c8-97d9-450c-f020-c2845aa9fd29"
   },
   "outputs": [
    {
     "data": {
      "text/plain": [
       "IT             4746\n",
       "Marketing      2031\n",
       "Education      1435\n",
       "Accountancy     374\n",
       "Name: industry, dtype: int64"
      ]
     },
     "execution_count": 12,
     "metadata": {},
     "output_type": "execute_result"
    }
   ],
   "source": [
    "df[\"industry\"].value_counts()"
   ]
  },
  {
   "cell_type": "code",
   "execution_count": 13,
   "metadata": {
    "ExecuteTime": {
     "end_time": "2021-09-20T16:43:50.979455Z",
     "start_time": "2021-09-20T16:43:50.722679Z"
    },
    "colab": {
     "base_uri": "https://localhost:8080/",
     "height": 352
    },
    "id": "ZozkOHnCDDL-",
    "outputId": "b32d30af-7b0b-46cd-b8f2-a8adddbe85cf"
   },
   "outputs": [
    {
     "data": {
      "text/plain": [
       "<Figure size 720x432 with 0 Axes>"
      ]
     },
     "metadata": {},
     "output_type": "display_data"
    },
    {
     "data": {
      "image/png": "[encoded data removed]",
      "text/plain": [
       "<Figure size 432x288 with 1 Axes>"
      ]
     },
     "metadata": {
      "needs_background": "light"
     },
     "output_type": "display_data"
    }
   ],
   "source": [
    "plt.figure(figsize=(10,6));\n",
    "df.groupby('industry').count().plot.bar(ylim=0);\n",
    "plt.show();"
   ]
  },
  {
   "cell_type": "code",
   "execution_count": 14,
   "metadata": {
    "ExecuteTime": {
     "end_time": "2021-09-20T16:43:51.318243Z",
     "start_time": "2021-09-20T16:43:51.221586Z"
    },
    "id": "8PZsc7gj3uDK"
   },
   "outputs": [],
   "source": [
    "X = df['job_title']\n",
    "y = df['industry']\n",
    "X_train, X_test, y_train, y_test = train_test_split(X, y, test_size=0.3, random_state = 42,stratify=y)\n"
   ]
  },
  {
   "cell_type": "markdown",
   "metadata": {
    "id": "5nGILfCZ3uDC"
   },
   "source": [
    "### 5. Dealing With Class Imbalance with Train Data"
   ]
  },
  {
   "cell_type": "code",
   "execution_count": 15,
   "metadata": {
    "ExecuteTime": {
     "end_time": "2021-09-20T16:43:52.139339Z",
     "start_time": "2021-09-20T16:43:52.133481Z"
    },
    "id": "G4amz2mx3uDG"
   },
   "outputs": [],
   "source": [
    "X_train = X_train.values\n",
    "y_train = y_train.values"
   ]
  },
  {
   "cell_type": "code",
   "execution_count": 16,
   "metadata": {
    "ExecuteTime": {
     "end_time": "2021-09-20T16:43:52.669489Z",
     "start_time": "2021-09-20T16:43:52.664608Z"
    },
    "id": "-dMs1gEl3uDG"
   },
   "outputs": [],
   "source": [
    "X_train=X_train.reshape(-1,1)"
   ]
  },
  {
   "cell_type": "code",
   "execution_count": 17,
   "metadata": {
    "ExecuteTime": {
     "end_time": "2021-09-20T16:43:53.146917Z",
     "start_time": "2021-09-20T16:43:53.140082Z"
    },
    "colab": {
     "base_uri": "https://localhost:8080/"
    },
    "id": "fdzhyWru3uDI",
    "outputId": "74637443-0cbe-4499-a4e3-b91ee151a2a4"
   },
   "outputs": [
    {
     "data": {
      "text/plain": [
       "(6010, 1)"
      ]
     },
     "execution_count": 17,
     "metadata": {},
     "output_type": "execute_result"
    }
   ],
   "source": [
    "X_train.shape"
   ]
  },
  {
   "cell_type": "code",
   "execution_count": 18,
   "metadata": {
    "ExecuteTime": {
     "end_time": "2021-09-20T16:43:53.627274Z",
     "start_time": "2021-09-20T16:43:53.619462Z"
    },
    "colab": {
     "base_uri": "https://localhost:8080/"
    },
    "id": "7sncG8Mm3uDJ",
    "outputId": "65fd976f-51ab-40ec-ec11-508f232066ad"
   },
   "outputs": [
    {
     "data": {
      "text/plain": [
       "(6010,)"
      ]
     },
     "execution_count": 18,
     "metadata": {},
     "output_type": "execute_result"
    }
   ],
   "source": [
    "y_train.shape"
   ]
  },
  {
   "cell_type": "code",
   "execution_count": 19,
   "metadata": {
    "ExecuteTime": {
     "end_time": "2021-09-20T16:43:55.007809Z",
     "start_time": "2021-09-20T16:43:54.119346Z"
    },
    "id": "pGf3IYQI3uDJ"
   },
   "outputs": [],
   "source": [
    "sm = SMOTEN(random_state=42)\n",
    "X_train_res, y_train_res = sm.fit_resample(X_train, y_train)"
   ]
  },
  {
   "cell_type": "code",
   "execution_count": null,
   "metadata": {
    "ExecuteTime": {
     "end_time": "2021-09-20T16:43:55.090798Z",
     "start_time": "2021-09-20T16:43:54.639Z"
    },
    "colab": {
     "base_uri": "https://localhost:8080/"
    },
    "id": "vhAUe0wa47uH",
    "outputId": "e950e672-9e17-4215-8e0e-e4836c4ec277"
   },
   "outputs": [],
   "source": [
    "X_train_res.shape"
   ]
  },
  {
   "cell_type": "code",
   "execution_count": 20,
   "metadata": {
    "ExecuteTime": {
     "end_time": "2021-09-20T16:43:55.197219Z",
     "start_time": "2021-09-20T16:43:55.190384Z"
    },
    "colab": {
     "base_uri": "https://localhost:8080/"
    },
    "id": "wVWNZTr43Gc0",
    "outputId": "b03ea2af-bbd9-4317-87be-8585589bf19d"
   },
   "outputs": [
    {
     "data": {
      "text/plain": [
       "(13288,)"
      ]
     },
     "execution_count": 20,
     "metadata": {},
     "output_type": "execute_result"
    }
   ],
   "source": [
    "y_train_res.shape"
   ]
  },
  {
   "cell_type": "code",
   "execution_count": 21,
   "metadata": {
    "ExecuteTime": {
     "end_time": "2021-09-20T16:43:56.190151Z",
     "start_time": "2021-09-20T16:43:56.170626Z"
    },
    "colab": {
     "base_uri": "https://localhost:8080/",
     "height": 414
    },
    "id": "w17t3rXa5nC2",
    "outputId": "e3fd9e47-b03a-4033-887f-fb390761104f"
   },
   "outputs": [
    {
     "data": {
      "text/html": [
       "<div>\n",
       "<style scoped>\n",
       "    .dataframe tbody tr th:only-of-type {\n",
       "        vertical-align: middle;\n",
       "    }\n",
       "\n",
       "    .dataframe tbody tr th {\n",
       "        vertical-align: top;\n",
       "    }\n",
       "\n",
       "    .dataframe thead th {\n",
       "        text-align: right;\n",
       "    }\n",
       "</style>\n",
       "<table border=\"1\" class=\"dataframe\">\n",
       "  <thead>\n",
       "    <tr style=\"text-align: right;\">\n",
       "      <th></th>\n",
       "      <th>job_title</th>\n",
       "      <th>industry</th>\n",
       "    </tr>\n",
       "  </thead>\n",
       "  <tbody>\n",
       "    <tr>\n",
       "      <th>0</th>\n",
       "      <td>senior net developer</td>\n",
       "      <td>IT</td>\n",
       "    </tr>\n",
       "    <tr>\n",
       "      <th>1</th>\n",
       "      <td>marketing manager b2b events</td>\n",
       "      <td>Marketing</td>\n",
       "    </tr>\n",
       "    <tr>\n",
       "      <th>2</th>\n",
       "      <td>global marketing director global vp</td>\n",
       "      <td>Marketing</td>\n",
       "    </tr>\n",
       "    <tr>\n",
       "      <th>3</th>\n",
       "      <td>junior graduate full stack developer</td>\n",
       "      <td>IT</td>\n",
       "    </tr>\n",
       "    <tr>\n",
       "      <th>4</th>\n",
       "      <td>quality control analyst</td>\n",
       "      <td>IT</td>\n",
       "    </tr>\n",
       "    <tr>\n",
       "      <th>...</th>\n",
       "      <td>...</td>\n",
       "      <td>...</td>\n",
       "    </tr>\n",
       "    <tr>\n",
       "      <th>13283</th>\n",
       "      <td>crm retention specialist</td>\n",
       "      <td>Marketing</td>\n",
       "    </tr>\n",
       "    <tr>\n",
       "      <th>13284</th>\n",
       "      <td>crm retention specialist</td>\n",
       "      <td>Marketing</td>\n",
       "    </tr>\n",
       "    <tr>\n",
       "      <th>13285</th>\n",
       "      <td>crm retention specialist</td>\n",
       "      <td>Marketing</td>\n",
       "    </tr>\n",
       "    <tr>\n",
       "      <th>13286</th>\n",
       "      <td>crm retention specialist</td>\n",
       "      <td>Marketing</td>\n",
       "    </tr>\n",
       "    <tr>\n",
       "      <th>13287</th>\n",
       "      <td>crm retention specialist</td>\n",
       "      <td>Marketing</td>\n",
       "    </tr>\n",
       "  </tbody>\n",
       "</table>\n",
       "<p>13288 rows × 2 columns</p>\n",
       "</div>"
      ],
      "text/plain": [
       "                                  job_title   industry\n",
       "0                      senior net developer         IT\n",
       "1              marketing manager b2b events  Marketing\n",
       "2       global marketing director global vp  Marketing\n",
       "3      junior graduate full stack developer         IT\n",
       "4                   quality control analyst         IT\n",
       "...                                     ...        ...\n",
       "13283              crm retention specialist  Marketing\n",
       "13284              crm retention specialist  Marketing\n",
       "13285              crm retention specialist  Marketing\n",
       "13286              crm retention specialist  Marketing\n",
       "13287              crm retention specialist  Marketing\n",
       "\n",
       "[13288 rows x 2 columns]"
      ]
     },
     "execution_count": 21,
     "metadata": {},
     "output_type": "execute_result"
    }
   ],
   "source": [
    "dfTrain_Resample = pd.DataFrame(data=np.column_stack((X_train_res, y_train_res)),columns=['job_title','industry'])\n",
    "dfTrain_Resample"
   ]
  },
  {
   "cell_type": "code",
   "execution_count": 22,
   "metadata": {
    "ExecuteTime": {
     "end_time": "2021-09-20T16:43:57.329532Z",
     "start_time": "2021-09-20T16:43:57.317818Z"
    },
    "colab": {
     "base_uri": "https://localhost:8080/"
    },
    "id": "A5AaNemdCxg1",
    "outputId": "bf08bcbf-834e-49a0-9752-94f738956063"
   },
   "outputs": [
    {
     "data": {
      "text/plain": [
       "Marketing      3322\n",
       "Accountancy    3322\n",
       "Education      3322\n",
       "IT             3322\n",
       "Name: industry, dtype: int64"
      ]
     },
     "execution_count": 22,
     "metadata": {},
     "output_type": "execute_result"
    }
   ],
   "source": [
    "dfTrain_Resample['industry'].value_counts()"
   ]
  },
  {
   "cell_type": "code",
   "execution_count": 23,
   "metadata": {
    "ExecuteTime": {
     "end_time": "2021-09-20T16:43:58.668087Z",
     "start_time": "2021-09-20T16:43:58.396665Z"
    },
    "colab": {
     "base_uri": "https://localhost:8080/",
     "height": 352
    },
    "id": "QwyhUOk23Gc4",
    "outputId": "accb4e37-2206-428d-a8fa-ea1738287e89"
   },
   "outputs": [
    {
     "data": {
      "text/plain": [
       "<Figure size 720x432 with 0 Axes>"
      ]
     },
     "metadata": {},
     "output_type": "display_data"
    },
    {
     "data": {
      "image/png": "[encoded data removed]",
      "text/plain": [
       "<Figure size 432x288 with 1 Axes>"
      ]
     },
     "metadata": {
      "needs_background": "light"
     },
     "output_type": "display_data"
    }
   ],
   "source": [
    "plt.figure(figsize=(10,6));\n",
    "dfTrain_Resample.groupby('industry').count().plot.bar(ylim=0);"
   ]
  },
  {
   "cell_type": "code",
   "execution_count": 24,
   "metadata": {
    "ExecuteTime": {
     "end_time": "2021-09-20T16:43:59.282202Z",
     "start_time": "2021-09-20T16:43:59.261698Z"
    },
    "colab": {
     "base_uri": "https://localhost:8080/",
     "height": 414
    },
    "id": "kyELW6S03Gc5",
    "outputId": "a9934078-1c01-4c08-ca8b-ea61923b45bb"
   },
   "outputs": [
    {
     "data": {
      "text/html": [
       "<div>\n",
       "<style scoped>\n",
       "    .dataframe tbody tr th:only-of-type {\n",
       "        vertical-align: middle;\n",
       "    }\n",
       "\n",
       "    .dataframe tbody tr th {\n",
       "        vertical-align: top;\n",
       "    }\n",
       "\n",
       "    .dataframe thead th {\n",
       "        text-align: right;\n",
       "    }\n",
       "</style>\n",
       "<table border=\"1\" class=\"dataframe\">\n",
       "  <thead>\n",
       "    <tr style=\"text-align: right;\">\n",
       "      <th></th>\n",
       "      <th>job_title</th>\n",
       "      <th>industry</th>\n",
       "    </tr>\n",
       "  </thead>\n",
       "  <tbody>\n",
       "    <tr>\n",
       "      <th>0</th>\n",
       "      <td>senior web designer</td>\n",
       "      <td>Marketing</td>\n",
       "    </tr>\n",
       "    <tr>\n",
       "      <th>1</th>\n",
       "      <td>publications coordnator</td>\n",
       "      <td>Marketing</td>\n",
       "    </tr>\n",
       "    <tr>\n",
       "      <th>2</th>\n",
       "      <td>senior service engineer</td>\n",
       "      <td>IT</td>\n",
       "    </tr>\n",
       "    <tr>\n",
       "      <th>3</th>\n",
       "      <td>network analyst</td>\n",
       "      <td>IT</td>\n",
       "    </tr>\n",
       "    <tr>\n",
       "      <th>4</th>\n",
       "      <td>contact centre engineer genesys london</td>\n",
       "      <td>IT</td>\n",
       "    </tr>\n",
       "    <tr>\n",
       "      <th>...</th>\n",
       "      <td>...</td>\n",
       "      <td>...</td>\n",
       "    </tr>\n",
       "    <tr>\n",
       "      <th>2571</th>\n",
       "      <td>maths teaching assistant west london</td>\n",
       "      <td>Education</td>\n",
       "    </tr>\n",
       "    <tr>\n",
       "      <th>2572</th>\n",
       "      <td>qa engineer</td>\n",
       "      <td>IT</td>\n",
       "    </tr>\n",
       "    <tr>\n",
       "      <th>2573</th>\n",
       "      <td>python engineer</td>\n",
       "      <td>IT</td>\n",
       "    </tr>\n",
       "    <tr>\n",
       "      <th>2574</th>\n",
       "      <td>lead data engineer</td>\n",
       "      <td>IT</td>\n",
       "    </tr>\n",
       "    <tr>\n",
       "      <th>2575</th>\n",
       "      <td>digital marketing social media specialist</td>\n",
       "      <td>Marketing</td>\n",
       "    </tr>\n",
       "  </tbody>\n",
       "</table>\n",
       "<p>2576 rows × 2 columns</p>\n",
       "</div>"
      ],
      "text/plain": [
       "                                      job_title   industry\n",
       "0                           senior web designer  Marketing\n",
       "1                       publications coordnator  Marketing\n",
       "2                       senior service engineer         IT\n",
       "3                               network analyst         IT\n",
       "4        contact centre engineer genesys london         IT\n",
       "...                                         ...        ...\n",
       "2571       maths teaching assistant west london  Education\n",
       "2572                                qa engineer         IT\n",
       "2573                            python engineer         IT\n",
       "2574                         lead data engineer         IT\n",
       "2575  digital marketing social media specialist  Marketing\n",
       "\n",
       "[2576 rows x 2 columns]"
      ]
     },
     "execution_count": 24,
     "metadata": {},
     "output_type": "execute_result"
    }
   ],
   "source": [
    "dfTest = pd.DataFrame(data=np.column_stack((X_test, y_test)),columns=['job_title','industry'])\n",
    "dfTest"
   ]
  },
  {
   "cell_type": "code",
   "execution_count": 25,
   "metadata": {
    "ExecuteTime": {
     "end_time": "2021-09-20T16:43:59.855309Z",
     "start_time": "2021-09-20T16:43:59.847498Z"
    },
    "colab": {
     "base_uri": "https://localhost:8080/"
    },
    "id": "ZhbOdGepC7-e",
    "outputId": "341adae0-0468-4dac-f1c6-936ad84157a2"
   },
   "outputs": [
    {
     "data": {
      "text/plain": [
       "IT             1424\n",
       "Marketing       609\n",
       "Education       431\n",
       "Accountancy     112\n",
       "Name: industry, dtype: int64"
      ]
     },
     "execution_count": 25,
     "metadata": {},
     "output_type": "execute_result"
    }
   ],
   "source": [
    "dfTest['industry'].value_counts()"
   ]
  },
  {
   "cell_type": "code",
   "execution_count": 26,
   "metadata": {
    "ExecuteTime": {
     "end_time": "2021-09-20T16:44:00.572917Z",
     "start_time": "2021-09-20T16:44:00.343480Z"
    },
    "colab": {
     "base_uri": "https://localhost:8080/",
     "height": 352
    },
    "id": "-WkS7rxd3Gc7",
    "outputId": "59c4d32d-313a-49d9-a7c5-5755d03a4821"
   },
   "outputs": [
    {
     "data": {
      "text/plain": [
       "<Figure size 720x432 with 0 Axes>"
      ]
     },
     "metadata": {},
     "output_type": "display_data"
    },
    {
     "data": {
      "image/png": "[encoded data removed]",
      "text/plain": [
       "<Figure size 432x288 with 1 Axes>"
      ]
     },
     "metadata": {
      "needs_background": "light"
     },
     "output_type": "display_data"
    }
   ],
   "source": [
    "plt.figure(figsize=(10,6));\n",
    "dfTest.groupby('industry').count().plot.bar(ylim=0);"
   ]
  },
  {
   "cell_type": "markdown",
   "metadata": {
    "id": "46DFGfcP3uDL"
   },
   "source": [
    "### 6. Model Selection"
   ]
  },
  {
   "cell_type": "code",
   "execution_count": 27,
   "metadata": {
    "ExecuteTime": {
     "end_time": "2021-09-20T16:44:01.317859Z",
     "start_time": "2021-09-20T16:44:01.312000Z"
    },
    "id": "SxooJ4W23Gc9"
   },
   "outputs": [],
   "source": [
    "X_train = dfTrain_Resample['job_title']\n",
    "y_train = dfTrain_Resample['industry']"
   ]
  },
  {
   "cell_type": "code",
   "execution_count": 28,
   "metadata": {
    "ExecuteTime": {
     "end_time": "2021-09-20T16:44:01.751350Z",
     "start_time": "2021-09-20T16:44:01.744516Z"
    },
    "id": "yi1RiGqj3Gc-"
   },
   "outputs": [],
   "source": [
    "def predictC(StringjobTitle,model):\n",
    "    df = pd.DataFrame({'T':[StringjobTitle]})\n",
    "    df['T'] = df['T'].apply(clean_text)\n",
    "    pred=model.predict(df['T']) \n",
    "    return pred[0] "
   ]
  },
  {
   "cell_type": "markdown",
   "metadata": {
    "id": "ZzQ9flOO3Gc_"
   },
   "source": [
    "#### Approach 1: Naive Bayes Classifier for MultiNomial"
   ]
  },
  {
   "cell_type": "code",
   "execution_count": 29,
   "metadata": {
    "ExecuteTime": {
     "end_time": "2021-09-20T16:44:04.159966Z",
     "start_time": "2021-09-20T16:44:03.570262Z"
    },
    "colab": {
     "base_uri": "https://localhost:8080/"
    },
    "id": "JMZdBHA83uDL",
    "outputId": "229bfe5e-4a18-485b-edc6-61c1bbd9c01f",
    "scrolled": true
   },
   "outputs": [
    {
     "name": "stdout",
     "output_type": "stream",
     "text": [
      "Train accuracy: 0.9644792293798916\n",
      "Test accuracy: 0.9118788819875776\n",
      "              precision    recall  f1-score   support\n",
      "\n",
      " Accountancy       0.84      0.76      0.80       112\n",
      "   Education       0.94      0.84      0.88       431\n",
      "          IT       0.93      0.96      0.94      1424\n",
      "   Marketing       0.86      0.89      0.87       609\n",
      "\n",
      "    accuracy                           0.91      2576\n",
      "   macro avg       0.89      0.86      0.88      2576\n",
      "weighted avg       0.91      0.91      0.91      2576\n",
      "\n"
     ]
    }
   ],
   "source": [
    "nb = Pipeline([('vect', CountVectorizer()),\n",
    "               ('tfidf', TfidfTransformer()),\n",
    "               ('clf', MultinomialNB())])\n",
    "\n",
    "nb.fit(X_train, y_train)\n",
    "\n",
    "y_pred = nb.predict(X_test)\n",
    "print('Train accuracy:',nb.score(X_train, y_train))\n",
    "print('Test accuracy:', accuracy_score(y_pred, y_test))\n",
    "print(classification_report(y_test, y_pred))"
   ]
  },
  {
   "cell_type": "code",
   "execution_count": 30,
   "metadata": {
    "ExecuteTime": {
     "end_time": "2021-09-20T16:44:05.558077Z",
     "start_time": "2021-09-20T16:44:05.547337Z"
    },
    "colab": {
     "base_uri": "https://localhost:8080/",
     "height": 35
    },
    "id": "-LzfOEtV3GdA",
    "outputId": "544b86f7-1884-4fd8-ec7e-e207cd0ec7a6"
   },
   "outputs": [
    {
     "data": {
      "text/plain": [
       "'Accountancy'"
      ]
     },
     "execution_count": 30,
     "metadata": {},
     "output_type": "execute_result"
    }
   ],
   "source": [
    "y_pred = predictC(\"Accountant\",nb)\n",
    "y_pred"
   ]
  },
  {
   "cell_type": "markdown",
   "metadata": {
    "id": "TsmnKs3T3uDL"
   },
   "source": [
    "#### Approach 2: Naive Bayes Classifier for BernoulliNB"
   ]
  },
  {
   "cell_type": "code",
   "execution_count": 31,
   "metadata": {
    "ExecuteTime": {
     "end_time": "2021-09-20T16:44:07.649385Z",
     "start_time": "2021-09-20T16:44:07.080182Z"
    },
    "colab": {
     "base_uri": "https://localhost:8080/"
    },
    "id": "hOHpUjyg3uDM",
    "outputId": "d3c906ab-6626-4ff5-9407-0fe9f2296442"
   },
   "outputs": [
    {
     "name": "stdout",
     "output_type": "stream",
     "text": [
      "Train accuracy: 0.9526640577965081\n",
      "Test accuracy: 0.8893633540372671\n",
      "              precision    recall  f1-score   support\n",
      "\n",
      " Accountancy       0.82      0.57      0.67       112\n",
      "   Education       0.88      0.83      0.85       431\n",
      "          IT       0.92      0.94      0.93      1424\n",
      "   Marketing       0.82      0.86      0.84       609\n",
      "\n",
      "    accuracy                           0.89      2576\n",
      "   macro avg       0.86      0.80      0.83      2576\n",
      "weighted avg       0.89      0.89      0.89      2576\n",
      "\n"
     ]
    }
   ],
   "source": [
    "br = Pipeline([('vect', CountVectorizer()),\n",
    "               ('tfidf', TfidfTransformer()),\n",
    "               ('clf', BernoulliNB())])\n",
    "\n",
    "br.fit(X_train, y_train)\n",
    "\n",
    "y_pred = br.predict(X_test)\n",
    "print('Train accuracy:', br.score(X_train, y_train))\n",
    "print('Test accuracy:',accuracy_score(y_pred, y_test))\n",
    "print(classification_report(y_test, y_pred))"
   ]
  },
  {
   "cell_type": "code",
   "execution_count": 32,
   "metadata": {
    "ExecuteTime": {
     "end_time": "2021-09-20T16:44:08.950838Z",
     "start_time": "2021-09-20T16:44:08.938147Z"
    },
    "colab": {
     "base_uri": "https://localhost:8080/",
     "height": 35
    },
    "id": "Pm4fPMi23GdE",
    "outputId": "39bc93c7-35ff-4ff3-9dba-c50d4d5f6404"
   },
   "outputs": [
    {
     "data": {
      "text/plain": [
       "'Marketing'"
      ]
     },
     "execution_count": 32,
     "metadata": {},
     "output_type": "execute_result"
    }
   ],
   "source": [
    "y_pred = predictC(\"Accountant\",br)\n",
    "y_pred"
   ]
  },
  {
   "cell_type": "markdown",
   "metadata": {
    "id": "fAIK38y83uDR"
   },
   "source": [
    "#### Approach 3: SGD Classifier and Loss Function is `hinge`, which gives a `linear SVM`."
   ]
  },
  {
   "cell_type": "code",
   "execution_count": 33,
   "metadata": {
    "ExecuteTime": {
     "end_time": "2021-09-20T16:44:10.650657Z",
     "start_time": "2021-09-20T16:44:10.243505Z"
    },
    "colab": {
     "base_uri": "https://localhost:8080/"
    },
    "id": "cRHx1USh3uDR",
    "outputId": "1356b8c3-42eb-4299-8a79-170c9c6ce4f3"
   },
   "outputs": [
    {
     "name": "stdout",
     "output_type": "stream",
     "text": [
      "Train accuracy: 0.973735701384708\n",
      "Test accuracy: 0.9324534161490683\n",
      "              precision    recall  f1-score   support\n",
      "\n",
      " Accountancy       0.90      0.82      0.86       112\n",
      "   Education       0.97      0.86      0.92       431\n",
      "          IT       0.94      0.97      0.96      1424\n",
      "   Marketing       0.90      0.90      0.90       609\n",
      "\n",
      "    accuracy                           0.93      2576\n",
      "   macro avg       0.93      0.89      0.91      2576\n",
      "weighted avg       0.93      0.93      0.93      2576\n",
      "\n"
     ]
    }
   ],
   "source": [
    "sgd = Pipeline([('vect', CountVectorizer()),\n",
    "                ('tfidf', TfidfTransformer()),\n",
    "                ('clf', SGDClassifier(loss='hinge',random_state=0))])\n",
    "\n",
    "sgd.fit(X_train, y_train)\n",
    "\n",
    "y_pred = sgd.predict(X_test)\n",
    "print('Train accuracy:',sgd.score(X_train, y_train))\n",
    "print('Test accuracy:',accuracy_score(y_pred, y_test))\n",
    "print(classification_report(y_test, y_pred))"
   ]
  },
  {
   "cell_type": "code",
   "execution_count": 34,
   "metadata": {
    "ExecuteTime": {
     "end_time": "2021-09-20T16:44:11.905226Z",
     "start_time": "2021-09-20T16:44:11.894487Z"
    },
    "colab": {
     "base_uri": "https://localhost:8080/",
     "height": 35
    },
    "id": "s63AqUs_3GdH",
    "outputId": "10dddebc-1295-40da-d9ec-15b8d50f4002"
   },
   "outputs": [
    {
     "data": {
      "text/plain": [
       "'Accountancy'"
      ]
     },
     "execution_count": 34,
     "metadata": {},
     "output_type": "execute_result"
    }
   ],
   "source": [
    "y_pred = predictC(\"Accountant\",sgd)\n",
    "y_pred"
   ]
  },
  {
   "cell_type": "markdown",
   "metadata": {
    "id": "10OwX7Ek_0Pr"
   },
   "source": [
    "#### Approach 4: CatBoost Classifier"
   ]
  },
  {
   "cell_type": "code",
   "execution_count": 41,
   "metadata": {
    "ExecuteTime": {
     "start_time": "2021-09-20T13:36:12.818Z"
    },
    "colab": {
     "base_uri": "https://localhost:8080/"
    },
    "id": "biMGhVNK3uDR",
    "outputId": "536f8033-f8d5-4f88-c143-3afa88eb576f"
   },
   "outputs": [
    {
     "name": "stdout",
     "output_type": "stream",
     "text": [
      "Train accuracy 0.9678657435279951\n",
      "Test accuracy 0.9095496894409938\n",
      "              precision    recall  f1-score   support\n",
      "\n",
      " Accountancy       0.94      0.73      0.82       112\n",
      "   Education       0.93      0.83      0.87       431\n",
      "          IT       0.91      0.97      0.94      1424\n",
      "   Marketing       0.89      0.85      0.87       609\n",
      "\n",
      "    accuracy                           0.91      2576\n",
      "   macro avg       0.92      0.85      0.88      2576\n",
      "weighted avg       0.91      0.91      0.91      2576\n",
      "\n"
     ]
    }
   ],
   "source": [
    "cb = Pipeline([('vect', CountVectorizer()),\n",
    "               ('tfidf', TfidfTransformer()),\n",
    "               ('clf', CatBoostClassifier(verbose=False))])\n",
    "\n",
    "cb.fit(X_train, y_train)\n",
    "\n",
    "y_pred = cb.predict(X_test)\n",
    "print('Train accuracy',cb.score(X_train, y_train))\n",
    "print('Test accuracy' ,accuracy_score(y_pred, y_test))\n",
    "print(classification_report(y_test, y_pred))"
   ]
  },
  {
   "cell_type": "markdown",
   "metadata": {
    "id": "ARVXU4Q6_o14"
   },
   "source": [
    "#### Approach 5: Random Forest Classifier Model"
   ]
  },
  {
   "cell_type": "code",
   "execution_count": 35,
   "metadata": {
    "ExecuteTime": {
     "end_time": "2021-09-20T16:44:20.912885Z",
     "start_time": "2021-09-20T16:44:17.166691Z"
    },
    "colab": {
     "base_uri": "https://localhost:8080/"
    },
    "id": "nthjTRPz3uDQ",
    "outputId": "b174d706-61cc-4d7d-e88d-4c1772d16500"
   },
   "outputs": [
    {
     "name": "stdout",
     "output_type": "stream",
     "text": [
      "Train accuracy 0.9896146899458158\n",
      "Test accuracy 0.9328416149068323\n",
      "              precision    recall  f1-score   support\n",
      "\n",
      " Accountancy       0.96      0.80      0.87       112\n",
      "   Education       0.93      0.88      0.90       431\n",
      "          IT       0.95      0.97      0.96      1424\n",
      "   Marketing       0.88      0.90      0.89       609\n",
      "\n",
      "    accuracy                           0.93      2576\n",
      "   macro avg       0.93      0.89      0.91      2576\n",
      "weighted avg       0.93      0.93      0.93      2576\n",
      "\n"
     ]
    }
   ],
   "source": [
    "rf = Pipeline([('vect', CountVectorizer()),\n",
    "               ('tfidf', TfidfTransformer()),\n",
    "               ('clf', RandomForestClassifier(random_state=0))])\n",
    "\n",
    "rf.fit(X_train, y_train)\n",
    "\n",
    "y_pred = rf.predict(X_test)\n",
    "print('Train accuracy',rf.score(X_train, y_train))\n",
    "print('Test accuracy', accuracy_score(y_pred, y_test))\n",
    "print(classification_report(y_test, y_pred))"
   ]
  },
  {
   "cell_type": "markdown",
   "metadata": {
    "id": "lrSW4h-h7eZO"
   },
   "source": [
    "#### Approach 6: XGBOOST Classifier Model"
   ]
  },
  {
   "cell_type": "code",
   "execution_count": 36,
   "metadata": {
    "ExecuteTime": {
     "end_time": "2021-09-20T16:44:28.965690Z",
     "start_time": "2021-09-20T16:44:22.762066Z"
    },
    "colab": {
     "base_uri": "https://localhost:8080/"
    },
    "id": "JDWxyNjO7QZw",
    "outputId": "dd1acffd-0848-4765-f395-d15ce48d11c3"
   },
   "outputs": [
    {
     "name": "stderr",
     "output_type": "stream",
     "text": [
      "C:\\Anaconda3\\lib\\site-packages\\xgboost\\sklearn.py:1146: UserWarning: The use of label encoder in XGBClassifier is deprecated and will be removed in a future release. To remove this warning, do the following: 1) Pass option use_label_encoder=False when constructing XGBClassifier object; and 2) Encode your labels (y) as integers starting with 0, i.e. 0, 1, 2, ..., [num_class - 1].\n",
      "  warnings.warn(label_encoder_deprecation_msg, UserWarning)\n"
     ]
    },
    {
     "name": "stdout",
     "output_type": "stream",
     "text": [
      "[18:44:23] WARNING: C:/Users/Administrator/workspace/xgboost-win64_release_1.4.0/src/learner.cc:1095: Starting in XGBoost 1.3.0, the default evaluation metric used with the objective 'multi:softprob' was changed from 'merror' to 'mlogloss'. Explicitly set eval_metric if you'd like to restore the old behavior.\n",
      "Train accuracy 0.975842865743528\n",
      "Test accuracy 0.9184782608695652\n",
      "              precision    recall  f1-score   support\n",
      "\n",
      " Accountancy       0.95      0.78      0.85       112\n",
      "   Education       0.94      0.84      0.88       431\n",
      "          IT       0.92      0.98      0.95      1424\n",
      "   Marketing       0.89      0.87      0.88       609\n",
      "\n",
      "    accuracy                           0.92      2576\n",
      "   macro avg       0.92      0.86      0.89      2576\n",
      "weighted avg       0.92      0.92      0.92      2576\n",
      "\n"
     ]
    }
   ],
   "source": [
    "xgb = Pipeline([('vect', CountVectorizer()),\n",
    "               ('tfidf', TfidfTransformer()),\n",
    "               ('clf', XGBClassifier(random_state=0))])\n",
    "\n",
    "xgb.fit(X_train, y_train)\n",
    "\n",
    "y_pred = xgb.predict(X_test)\n",
    "print('Train accuracy',xgb.score(X_train, y_train))\n",
    "print('Test accuracy', accuracy_score(y_pred, y_test))\n",
    "print(classification_report(y_test, y_pred))"
   ]
  },
  {
   "cell_type": "markdown",
   "metadata": {
    "id": "lyNm9oed3uDT"
   },
   "source": [
    "### As we See that seems SGD Classifier with hinge Loss Function (linear SVM) is the best and it is nearly to Random Forrest but it is less over fitting that Random Forrest."
   ]
  },
  {
   "cell_type": "markdown",
   "metadata": {
    "id": "JU20FHJX3uDV"
   },
   "source": [
    "### Showing the Heat Map"
   ]
  },
  {
   "cell_type": "code",
   "execution_count": 37,
   "metadata": {
    "ExecuteTime": {
     "end_time": "2021-09-20T16:44:53.012374Z",
     "start_time": "2021-09-20T16:44:51.824177Z"
    },
    "colab": {
     "base_uri": "https://localhost:8080/",
     "height": 714
    },
    "id": "8wnQhEeT3uDV",
    "outputId": "b5070929-4f1a-42c3-9b7e-20ac38c78d44",
    "scrolled": false
   },
   "outputs": [
    {
     "data": {
      "image/png": "[encoded data removed]",
      "text/plain": [
       "<Figure size 864x864 with 2 Axes>"
      ]
     },
     "metadata": {
      "needs_background": "light"
     },
     "output_type": "display_data"
    }
   ],
   "source": [
    "import seaborn as sns\n",
    "conf_mat = confusion_matrix(y_test, sgd.predict(X_test))\n",
    "fig, ax = plt.subplots(figsize=(12,12))\n",
    "sns.heatmap(conf_mat, annot=True, fmt='d')\n",
    "plt.ylabel('Actual')\n",
    "plt.xlabel('Predicted')\n",
    "plt.show()"
   ]
  },
  {
   "cell_type": "code",
   "execution_count": 38,
   "metadata": {
    "ExecuteTime": {
     "end_time": "2021-09-20T16:44:53.915483Z",
     "start_time": "2021-09-20T16:44:53.826637Z"
    },
    "colab": {
     "base_uri": "https://localhost:8080/"
    },
    "id": "jtEl1L2S8gOm",
    "outputId": "4b750848-2623-447a-fd5f-00e91db29bdf"
   },
   "outputs": [
    {
     "name": "stdout",
     "output_type": "stream",
     "text": [
      "Number of mislabeled points out of a total 2576 points : 174\n"
     ]
    }
   ],
   "source": [
    "print(\"Number of mislabeled points out of a total %d points : %d\" % (X_test.shape[0], (y_test != sgd.predict(X_test)).sum()))"
   ]
  },
  {
   "cell_type": "code",
   "execution_count": 39,
   "metadata": {
    "ExecuteTime": {
     "end_time": "2021-09-20T16:44:54.608681Z",
     "start_time": "2021-09-20T16:44:54.459301Z"
    },
    "colab": {
     "base_uri": "https://localhost:8080/"
    },
    "id": "vYHzrxCL3uDW",
    "outputId": "163dedae-ad71-4939-bc2e-6c23e96a02ab"
   },
   "outputs": [
    {
     "name": "stdout",
     "output_type": "stream",
     "text": [
      "              precision    recall  f1-score   support\n",
      "\n",
      " Accountancy       0.90      0.82      0.86       112\n",
      "   Education       0.97      0.86      0.92       431\n",
      "          IT       0.94      0.97      0.96      1424\n",
      "   Marketing       0.90      0.90      0.90       609\n",
      "\n",
      "    accuracy                           0.93      2576\n",
      "   macro avg       0.93      0.89      0.91      2576\n",
      "weighted avg       0.93      0.93      0.93      2576\n",
      "\n"
     ]
    }
   ],
   "source": [
    "print(classification_report(y_test, sgd.predict(X_test)))"
   ]
  },
  {
   "cell_type": "markdown",
   "metadata": {
    "id": "Sbru8LKQ84hN"
   },
   "source": [
    "### As we see from Heat Map and Classification Report of SGD Model, We can say it is the best model with these coditions as it is around 6.5% error"
   ]
  },
  {
   "cell_type": "markdown",
   "metadata": {
    "id": "Du1TlsH03uDX"
   },
   "source": [
    "### 7. Save SGD Model as Pickle_File for The Deployment"
   ]
  },
  {
   "cell_type": "code",
   "execution_count": 42,
   "metadata": {
    "ExecuteTime": {
     "end_time": "2021-09-20T17:18:32.935567Z",
     "start_time": "2021-09-20T17:18:32.896512Z"
    },
    "colab": {
     "base_uri": "https://localhost:8080/"
    },
    "id": "YdwPTUC_3uDX",
    "outputId": "68910baa-2411-43c3-c3f2-091827070b0d",
    "scrolled": true
   },
   "outputs": [
    {
     "data": {
      "text/plain": [
       "['SGD_model.pkl']"
      ]
     },
     "execution_count": 42,
     "metadata": {},
     "output_type": "execute_result"
    }
   ],
   "source": [
    "import joblib\n",
    "joblib.dump(sgd, 'SGD_model.pkl')"
   ]
  },
  {
   "cell_type": "markdown",
   "metadata": {
    "id": "sTKOlS-OFD-h"
   },
   "source": [
    "___________________________________________________________"
   ]
  },
  {
   "cell_type": "markdown",
   "metadata": {
    "id": "aUZ-qvVa903P"
   },
   "source": [
    "### Answer the following questions:\n"
   ]
  },
  {
   "cell_type": "markdown",
   "metadata": {
    "id": "m9nh6jtz-NSm"
   },
   "source": [
    "#### 1. Which techniques you have used while cleaning the data if you have cleaned it?"
   ]
  },
  {
   "cell_type": "markdown",
   "metadata": {
    "id": "QX922odS-XMp"
   },
   "source": [
    "I used NLTK Library as i download Stopwords to remove it from our data then use the regex to remove spaces and bad symbols besides lower case all words."
   ]
  },
  {
   "cell_type": "markdown",
   "metadata": {
    "id": "GqOXYoup-9ts"
   },
   "source": [
    "#### 2. Why have you chosen this classifier?"
   ]
  },
  {
   "cell_type": "markdown",
   "metadata": {
    "id": "Rd9ZdEoo_HSQ"
   },
   "source": [
    "I used SGD Model with hinge Loss Function (linear SVM) because SGD has been successfully applied to large-scale and sparse machine learning problems as text classification and natural language processing. Given that the data is sparse, the classifiers in this module easily scale to problems with more than 10^5 training examples and more than 10^5 features. Though it is Efficiency and Ease of implementation besides for sure gives the highest Accuracy\n"
   ]
  },
  {
   "cell_type": "markdown",
   "metadata": {
    "id": "f3zowfHHANgb"
   },
   "source": [
    "#### 3. How do you deal with (Imbalance learning)?"
   ]
  },
  {
   "cell_type": "markdown",
   "metadata": {
    "id": "yQkMjyROAQoj"
   },
   "source": [
    "I used SMOTEN as Over Sampling technique but after spliting the data and SMOTEN because It expects that the data to resample are only made of categorical features and it improves the accuracy."
   ]
  },
  {
   "cell_type": "markdown",
   "metadata": {
    "id": "W5vdr0jxAuDi"
   },
   "source": [
    "#### 4. How can you extend the model to have better performance?"
   ]
  },
  {
   "cell_type": "markdown",
   "metadata": {
    "id": "GCNTL2GCBOsc"
   },
   "source": [
    "We can try different techniques for cleaning and vectorize the data to get best performance and the data imbalance is big issue, though we could try to scrape more data, besides more hyperparameter tuning will increase the performance."
   ]
  },
  {
   "cell_type": "markdown",
   "metadata": {
    "id": "ptd38sKhBwpo"
   },
   "source": [
    "#### 5. How do you evaluate your model? (i.e. accuracy, F1 score, Recall)"
   ]
  },
  {
   "cell_type": "markdown",
   "metadata": {
    "id": "KzW6mFqPB6Bl"
   },
   "source": [
    "F1 Score and Accuracy"
   ]
  },
  {
   "cell_type": "markdown",
   "metadata": {
    "id": "uGg7T74pCDkd"
   },
   "source": [
    "#### 6. What are the limitations of your methodology or Where does your approach fail?"
   ]
  },
  {
   "cell_type": "markdown",
   "metadata": {
    "id": "U_KpKia-CLIX"
   },
   "source": [
    "Accountancy and Education Classes not as good as other Classes because the imbalance data and the data so biased to IT Class, Though for sure more data will definitly improve the performance and Accuracy and we need more time for the data preprocessing and cleaning."
   ]
  },
  {
   "cell_type": "markdown",
   "metadata": {},
   "source": [
    "### It Should be Noted That I Checked two Models Random Forrest and SGD the two have some errors in the Accountancy and Education"
   ]
  },
  {
   "cell_type": "markdown",
   "metadata": {
    "id": "4IaCwnwfCj5e"
   },
   "source": [
    "__________________________________________________________________"
   ]
  }
 ],
 "metadata": {
  "colab": {
   "collapsed_sections": [
    "lyNm9oed3uDT"
   ],
   "name": "Training_Multi_class_Text__Classification_Task.ipynb",
   "provenance": []
  },
  "kernelspec": {
   "display_name": "Python 3",
   "language": "python",
   "name": "python3"
  },
  "language_info": {
   "codemirror_mode": {
    "name": "ipython",
    "version": 3
   },
   "file_extension": ".py",
   "mimetype": "text/x-python",
   "name": "python",
   "nbconvert_exporter": "python",
   "pygments_lexer": "ipython3",
   "version": "3.7.6"
  },
  "varInspector": {
   "cols": {
    "lenName": 16,
    "lenType": 16,
    "lenVar": 40
   },
   "kernels_config": {
    "python": {
     "delete_cmd_postfix": "",
     "delete_cmd_prefix": "del ",
     "library": "var_list.py",
     "varRefreshCmd": "print(var_dic_list())"
    },
    "r": {
     "delete_cmd_postfix": ") ",
     "delete_cmd_prefix": "rm(",
     "library": "var_list.r",
     "varRefreshCmd": "cat(var_dic_list()) "
    }
   },
   "types_to_exclude": [
    "module",
    "function",
    "builtin_function_or_method",
    "instance",
    "_Feature"
   ],
   "window_display": false
  }
 },
 "nbformat": 4,
 "nbformat_minor": 1
}
