{
 "cells": [
  {
   "cell_type": "markdown",
   "metadata": {},
   "source": [
    "# Testing_Multi_class_Text__Classification_Task\n",
    "#### By Mohamed Sebaie Sebaie Youssef"
   ]
  },
  {
   "cell_type": "code",
   "execution_count": 1,
   "metadata": {
    "ExecuteTime": {
     "end_time": "2021-09-20T16:53:14.926714Z",
     "start_time": "2021-09-20T16:53:12.648947Z"
    },
    "colab": {
     "base_uri": "https://localhost:8080/"
    },
    "id": "zeFbZqgMGqrF",
    "outputId": "0557a548-0858-4f6b-e7f7-92c3ca5ea26c"
   },
   "outputs": [],
   "source": [
    "#basic imports\n",
    "import numpy as np\n",
    "import pandas as pd\n",
    "import matplotlib.pyplot as plt\n",
    "%matplotlib inline\n",
    "\n",
    "#NLP imports\n",
    "import re\n",
    "import nltk\n",
    "from nltk.corpus import stopwords\n",
    "import joblib"
   ]
  },
  {
   "cell_type": "code",
   "execution_count": 7,
   "metadata": {
    "ExecuteTime": {
     "end_time": "2021-09-20T17:20:54.802852Z",
     "start_time": "2021-09-20T17:20:54.771609Z"
    },
    "colab": {
     "base_uri": "https://localhost:8080/"
    },
    "id": "nB4FnNLBGt8u",
    "outputId": "672b36db-bb10-43a5-c1eb-fc9c07f920ba"
   },
   "outputs": [],
   "source": [
    "model=joblib.load('SGD_model.pkl')"
   ]
  },
  {
   "cell_type": "code",
   "execution_count": 8,
   "metadata": {
    "ExecuteTime": {
     "end_time": "2021-09-20T17:20:55.520458Z",
     "start_time": "2021-09-20T17:20:55.509718Z"
    },
    "id": "GB9M63wDHJw4"
   },
   "outputs": [],
   "source": [
    "REPLACE_BY_SPACE_RE = re.compile('[/(){}\\[\\]\\|@,;]')\n",
    "BAD_SYMBOLS_RE = re.compile('[^0-9a-z #+_]')\n",
    "STOPWORDS = set(stopwords.words('english'))\n",
    "def clean_text(text):\n",
    "    \"\"\"\n",
    "        text: a string\n",
    "        \n",
    "        return: modified initial string\n",
    "    \"\"\"\n",
    "    text = text.lower() # lowercase text\n",
    "    text = REPLACE_BY_SPACE_RE.sub(' ', text) # replace REPLACE_BY_SPACE_RE symbols by space in text\n",
    "    text = BAD_SYMBOLS_RE.sub('', text) # delete symbols which are in BAD_SYMBOLS_RE from text\n",
    "    text = ' '.join(word for word in text.split() if word not in STOPWORDS) # delete stopwors from text\n",
    "    return text"
   ]
  },
  {
   "cell_type": "code",
   "execution_count": 9,
   "metadata": {
    "ExecuteTime": {
     "end_time": "2021-09-20T17:20:56.053536Z",
     "start_time": "2021-09-20T17:20:56.046702Z"
    }
   },
   "outputs": [],
   "source": [
    "def predictC(StringjobTitle,model):\n",
    "    df = pd.DataFrame({'T':[StringjobTitle]})\n",
    "    df['T'] = df['T'].apply(clean_text)\n",
    "    pred=model.predict(df['T']) \n",
    "    return pred[0] "
   ]
  },
  {
   "cell_type": "code",
   "execution_count": 16,
   "metadata": {
    "ExecuteTime": {
     "end_time": "2021-09-20T17:21:40.403369Z",
     "start_time": "2021-09-20T17:21:40.394583Z"
    },
    "id": "nl601WFxG3K0"
   },
   "outputs": [],
   "source": [
    "prediction = predictC('Accountant',model)"
   ]
  },
  {
   "cell_type": "code",
   "execution_count": 17,
   "metadata": {
    "ExecuteTime": {
     "end_time": "2021-09-20T17:21:40.816359Z",
     "start_time": "2021-09-20T17:21:40.809524Z"
    },
    "colab": {
     "base_uri": "https://localhost:8080/"
    },
    "id": "Vba4_2ocILTo",
    "outputId": "446991fb-97f5-4432-c68e-c2feed67ac9e"
   },
   "outputs": [
    {
     "data": {
      "text/plain": [
       "'Accountancy'"
      ]
     },
     "execution_count": 17,
     "metadata": {},
     "output_type": "execute_result"
    }
   ],
   "source": [
    "prediction"
   ]
  },
  {
   "cell_type": "markdown",
   "metadata": {
    "id": "CRVmlSJ5KJI8"
   },
   "source": [
    "______________________________________________"
   ]
  }
 ],
 "metadata": {
  "colab": {
   "name": "Multi-class_Text _Classification_TaskTest.ipynb",
   "provenance": []
  },
  "kernelspec": {
   "display_name": "Python 3",
   "language": "python",
   "name": "python3"
  },
  "language_info": {
   "codemirror_mode": {
    "name": "ipython",
    "version": 3
   },
   "file_extension": ".py",
   "mimetype": "text/x-python",
   "name": "python",
   "nbconvert_exporter": "python",
   "pygments_lexer": "ipython3",
   "version": "3.7.6"
  },
  "varInspector": {
   "cols": {
    "lenName": 16,
    "lenType": 16,
    "lenVar": 40
   },
   "kernels_config": {
    "python": {
     "delete_cmd_postfix": "",
     "delete_cmd_prefix": "del ",
     "library": "var_list.py",
     "varRefreshCmd": "print(var_dic_list())"
    },
    "r": {
     "delete_cmd_postfix": ") ",
     "delete_cmd_prefix": "rm(",
     "library": "var_list.r",
     "varRefreshCmd": "cat(var_dic_list()) "
    }
   },
   "types_to_exclude": [
    "module",
    "function",
    "builtin_function_or_method",
    "instance",
    "_Feature"
   ],
   "window_display": false
  }
 },
 "nbformat": 4,
 "nbformat_minor": 1
}
